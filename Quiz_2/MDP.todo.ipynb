{
 "cells": [
  {
   "cell_type": "code",
   "execution_count": 18,
   "id": "2e262f50",
   "metadata": {},
   "outputs": [],
   "source": [
    "v0l = 0\n",
    "v0m = 0\n",
    "v0h = 0\n",
    "\n",
    "vl = lambda v: (max(-1 + 0.9*(0.8*v + 0.2*v), -1 + 0.9*(0.6*v + 0.4*v)))\n",
    "vm = lambda v: (max(3 + 0.9*(0.7*v + 0.3*v), 3 + 0.9*(0.5*v + 0.5*v)))\n",
    "vh = lambda v: (max(5 + 0.9*(0.9*v + 0.1*v), 3 + 0.9*(0.7*v + 0.3*v)))\n",
    "\n",
    "qlc = lambda v: -1 + 0.9*(0.8*v + 0.2*3)\n",
    "qla = lambda v: -1 + 0.9*(0.6*v + 0.4*3)\n",
    "qmc = lambda v: 3 + 0.9*(0.7*v + 0.3*3)\n",
    "qma = lambda v: 3 + 0.9*(0.5*v + 0.5*3)\n",
    "qhc = lambda v: 5 + 0.9*(0.9*v + 0.1*3)\n",
    "qha = lambda v: 5 + 0.9*(0.7*v + 0.3*3)"
   ]
  },
  {
   "cell_type": "code",
   "execution_count": 19,
   "id": "189edaec",
   "metadata": {},
   "outputs": [
    {
     "data": {
      "text/plain": [
       "(-1.0, 3.0, 5.0)"
      ]
     },
     "execution_count": 19,
     "metadata": {},
     "output_type": "execute_result"
    }
   ],
   "source": [
    "# Iter 1\n",
    "v1l = vl(v0l)\n",
    "v1m = vm(v0m)\n",
    "v1h = vh(v0h)\n",
    "(v1l, v1m, v1h)"
   ]
  },
  {
   "cell_type": "code",
   "execution_count": null,
   "id": "557e334e",
   "metadata": {},
   "outputs": [
    {
     "data": {
      "text/plain": [
       "(-1.18, -0.45999999999999985, 5.699999999999999, 5.7, 9.32, 8.96)"
      ]
     },
     "execution_count": 20,
     "metadata": {},
     "output_type": "execute_result"
    }
   ],
   "source": [
    "qlc1 = qlc(v1l)\n",
    "qla1 = qla(v1l)\n",
    "qmc1 = qmc(v1m)\n",
    "qma1 = qma(v1m)\n",
    "qhc1 = qhc(v1h)\n",
    "qha1 = qha(v1h)\n",
    "(qlc1, qla1, qmc1, qma1, qhc1, qha1)\n",
    "# Policy Eval:\n",
    "# Low A, \n",
    "# Mid A, \n",
    "# High C"
   ]
  },
  {
   "cell_type": "code",
   "execution_count": 21,
   "id": "bb0255fb",
   "metadata": {},
   "outputs": [
    {
     "data": {
      "text/plain": [
       "(-1.9, 5.7, 9.5)"
      ]
     },
     "execution_count": 21,
     "metadata": {},
     "output_type": "execute_result"
    }
   ],
   "source": [
    "# iter 2\n",
    "v2l = vl(v1l)\n",
    "v2m = vm(v1m)\n",
    "v2h = vh(v1h)\n",
    "(v2l, v2m, v2h)"
   ]
  },
  {
   "cell_type": "code",
   "execution_count": null,
   "id": "ed401801",
   "metadata": {},
   "outputs": [
    {
     "data": {
      "text/plain": [
       "(-1.8279999999999998,\n",
       " -0.9459999999999997,\n",
       " 7.401,\n",
       " 6.914999999999999,\n",
       " 12.965000000000002,\n",
       " 11.794999999999998)"
      ]
     },
     "execution_count": 22,
     "metadata": {},
     "output_type": "execute_result"
    }
   ],
   "source": [
    "qlc2 = qlc(v2l)\n",
    "qla2 = qla(v2l)\n",
    "qmc2 = qmc(v2m)\n",
    "qma2 = qma(v2m)\n",
    "qhc2 = qhc(v2h)\n",
    "qha2 = qha(v2h)\n",
    "(qlc2, qla2, qmc2, qma2, qhc2, qha2)\n",
    "# Policy Eval:\n",
    "# Low A, \n",
    "# Mid C, \n",
    "# High C"
   ]
  },
  {
   "cell_type": "code",
   "execution_count": 23,
   "id": "31234b4a",
   "metadata": {},
   "outputs": [
    {
     "data": {
      "text/plain": [
       "(-2.71, 8.129999999999999, 13.55)"
      ]
     },
     "execution_count": 23,
     "metadata": {},
     "output_type": "execute_result"
    }
   ],
   "source": [
    "# iter 3\n",
    "v3l = vl(v2l)\n",
    "v3m = vm(v2m)\n",
    "v3h = vh(v2h)\n",
    "(v3l, v3m, v3h)"
   ]
  },
  {
   "cell_type": "code",
   "execution_count": null,
   "id": "7390542e",
   "metadata": {},
   "outputs": [
    {
     "data": {
      "text/plain": [
       "(-2.4112, -1.3833999999999997, 8.931899999999999, 8.0085, 16.2455, 14.3465)"
      ]
     },
     "execution_count": 24,
     "metadata": {},
     "output_type": "execute_result"
    }
   ],
   "source": [
    "qlc3 = qlc(v3l)\n",
    "qla3 = qla(v3l)\n",
    "qmc3 = qmc(v3m)\n",
    "qma3 = qma(v3m)\n",
    "qhc3 = qhc(v3h)\n",
    "qha3 = qha(v3h)\n",
    "\n",
    "(qlc3, qla3, qmc3, qma3, qhc3, qha3)\n",
    "# Policy Eval:\n",
    "# Low A, \n",
    "# Low C, \n",
    "# Low C"
   ]
  },
  {
   "cell_type": "markdown",
   "id": "1d0e5695-a01b-4bcc-909b-582b5e64d068",
   "metadata": {},
   "source": [
    "### Summary: Policy Evolution Over Iterations\n",
    "\n",
    ">| State  | Iteration 1 | Iteration 2 | Iteration 3 |\n",
    "|--------|------------|------------|------------|\n",
    "| Low      | A          | A            | A          |\n",
    "| Medium   | A            | C            | C          |\n",
    "| High     | C          | C          | C          |\n",
    "\n",
    "TODO: Analysis:\n",
    "\n"
   ]
  }
 ],
 "metadata": {
  "kernelspec": {
   "display_name": "Python 3 (ipykernel)",
   "language": "python",
   "name": "python3"
  },
  "language_info": {
   "codemirror_mode": {
    "name": "ipython",
    "version": 3
   },
   "file_extension": ".py",
   "mimetype": "text/x-python",
   "name": "python",
   "nbconvert_exporter": "python",
   "pygments_lexer": "ipython3",
   "version": "3.13.2"
  }
 },
 "nbformat": 4,
 "nbformat_minor": 5
}
